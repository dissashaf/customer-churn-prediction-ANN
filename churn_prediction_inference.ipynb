{
 "cells": [
  {
   "attachments": {},
   "cell_type": "markdown",
   "metadata": {},
   "source": [
    "# **Customer Churn Prediction** | Inference\n",
    "`Raden Dissa Shafira`"
   ]
  },
  {
   "attachments": {},
   "cell_type": "markdown",
   "metadata": {},
   "source": [
    "Pada file ini akan dilakukan trial model ANN dengan data inference yang akan dibuat sebagai percobaan. File ini merupakan lanjutan dari file utama."
   ]
  },
  {
   "attachments": {},
   "cell_type": "markdown",
   "metadata": {},
   "source": [
    "### Import and Load"
   ]
  },
  {
   "cell_type": "code",
   "execution_count": 1,
   "metadata": {},
   "outputs": [],
   "source": [
    "# Import Library\n",
    "\n",
    "import pickle\n",
    "import pandas as pd\n",
    "import numpy as np\n",
    "from tensorflow.keras.models import load_model"
   ]
  },
  {
   "cell_type": "code",
   "execution_count": 38,
   "metadata": {},
   "outputs": [],
   "source": [
    "# load model\n",
    "with open('final_pipeline.pkl', 'rb') as file_1:\n",
    "    model_pipeline = pickle.load(file_1)\n",
    "model_churn = load_model('churn_func.h5')"
   ]
  },
  {
   "attachments": {},
   "cell_type": "markdown",
   "metadata": {},
   "source": [
    "### Inferencing"
   ]
  },
  {
   "cell_type": "code",
   "execution_count": 35,
   "metadata": {},
   "outputs": [
    {
     "data": {
      "text/html": [
       "<div>\n",
       "<style scoped>\n",
       "    .dataframe tbody tr th:only-of-type {\n",
       "        vertical-align: middle;\n",
       "    }\n",
       "\n",
       "    .dataframe tbody tr th {\n",
       "        vertical-align: top;\n",
       "    }\n",
       "\n",
       "    .dataframe thead th {\n",
       "        text-align: right;\n",
       "    }\n",
       "</style>\n",
       "<table border=\"1\" class=\"dataframe\">\n",
       "  <thead>\n",
       "    <tr style=\"text-align: right;\">\n",
       "      <th></th>\n",
       "      <th>user_id</th>\n",
       "      <th>age</th>\n",
       "      <th>gender</th>\n",
       "      <th>region_category</th>\n",
       "      <th>membership_category</th>\n",
       "      <th>joining_date</th>\n",
       "      <th>joined_through_referral</th>\n",
       "      <th>preferred_offer_types</th>\n",
       "      <th>medium_of_operation</th>\n",
       "      <th>internet_option</th>\n",
       "      <th>...</th>\n",
       "      <th>days_since_last_login</th>\n",
       "      <th>avg_time_spent</th>\n",
       "      <th>avg_transaction_value</th>\n",
       "      <th>avg_frequency_login_days</th>\n",
       "      <th>points_in_wallet</th>\n",
       "      <th>used_special_discount</th>\n",
       "      <th>offer_application_preference</th>\n",
       "      <th>past_complaint</th>\n",
       "      <th>complaint_status</th>\n",
       "      <th>feedback</th>\n",
       "    </tr>\n",
       "  </thead>\n",
       "  <tbody>\n",
       "    <tr>\n",
       "      <th>0</th>\n",
       "      <td>6666</td>\n",
       "      <td>25</td>\n",
       "      <td>F</td>\n",
       "      <td>Village</td>\n",
       "      <td>Silver Membership</td>\n",
       "      <td>2017-11-13</td>\n",
       "      <td>Yes</td>\n",
       "      <td>Gift Vouchers/Coupons</td>\n",
       "      <td>Smartphone</td>\n",
       "      <td>Wi-Fi</td>\n",
       "      <td>...</td>\n",
       "      <td>22</td>\n",
       "      <td>55.6</td>\n",
       "      <td>48263.12</td>\n",
       "      <td>9.0</td>\n",
       "      <td>763.09</td>\n",
       "      <td>Yes</td>\n",
       "      <td>No</td>\n",
       "      <td>Yes</td>\n",
       "      <td>Solved in Follow-up</td>\n",
       "      <td>No reason specified</td>\n",
       "    </tr>\n",
       "  </tbody>\n",
       "</table>\n",
       "<p>1 rows × 21 columns</p>\n",
       "</div>"
      ],
      "text/plain": [
       "   user_id  age gender region_category membership_category joining_date  \\\n",
       "0     6666   25      F         Village   Silver Membership   2017-11-13   \n",
       "\n",
       "  joined_through_referral  preferred_offer_types medium_of_operation  \\\n",
       "0                     Yes  Gift Vouchers/Coupons          Smartphone   \n",
       "\n",
       "  internet_option  ... days_since_last_login  avg_time_spent  \\\n",
       "0           Wi-Fi  ...                    22            55.6   \n",
       "\n",
       "   avg_transaction_value  avg_frequency_login_days  points_in_wallet  \\\n",
       "0               48263.12                       9.0            763.09   \n",
       "\n",
       "   used_special_discount offer_application_preference past_complaint  \\\n",
       "0                    Yes                           No            Yes   \n",
       "\n",
       "      complaint_status             feedback  \n",
       "0  Solved in Follow-up  No reason specified  \n",
       "\n",
       "[1 rows x 21 columns]"
      ]
     },
     "execution_count": 35,
     "metadata": {},
     "output_type": "execute_result"
    }
   ],
   "source": [
    "# membuat data dummy\n",
    "data_inf = {\n",
    "   \"user_id\": 6666,\n",
    "   \"age\": 25,\n",
    "   \"gender\": \"F\",\n",
    "   \"region_category\": \"Village\",\n",
    "   \"membership_category\": \"Silver Membership\",\n",
    "   \"joining_date\": \"2017-11-13\",\n",
    "   \"joined_through_referral\": \"Yes\",\n",
    "   \"preferred_offer_types\": \"Gift Vouchers/Coupons\",\n",
    "   \"medium_of_operation\": \"Smartphone\",\n",
    "   \"internet_option\": \"Wi-Fi\",\n",
    "   \"last_visit_time\": \"10:07:29\",\n",
    "   \"days_since_last_login\": 22,\n",
    "   \"avg_time_spent\": 55.60,\n",
    "   \"avg_transaction_value\": 48263.12,\n",
    "   \"avg_frequency_login_days\": 9.000000,\n",
    "   \"points_in_wallet\": 763.090000,\n",
    "   \"used_special_discount\": \"Yes\",\n",
    "   \"offer_application_preference\": \"No\",\n",
    "   \"past_complaint\": \"Yes\",\n",
    "   \"complaint_status\": \"Solved in Follow-up\",\n",
    "   \"feedback\": \"No reason specified\"\n",
    "}\n",
    "\n",
    "data_inf = pd.DataFrame([data_inf])\n",
    "data_inf"
   ]
  },
  {
   "cell_type": "code",
   "execution_count": 39,
   "metadata": {},
   "outputs": [],
   "source": [
    "# transform model\n",
    "data_inf_transform = model_pipeline.transform(data_inf)"
   ]
  },
  {
   "cell_type": "code",
   "execution_count": 40,
   "metadata": {},
   "outputs": [
    {
     "name": "stdout",
     "output_type": "stream",
     "text": [
      "1/1 [==============================] - 0s 133ms/step\n"
     ]
    }
   ],
   "source": [
    "# evaluation\n",
    "y_pred_inf = model_churn.predict(data_inf_transform)\n",
    "y_pred_inf = np.where(y_pred_inf >=0.5, 1,0 )"
   ]
  },
  {
   "cell_type": "code",
   "execution_count": 41,
   "metadata": {},
   "outputs": [
    {
     "data": {
      "text/plain": [
       "array([[0]])"
      ]
     },
     "execution_count": 41,
     "metadata": {},
     "output_type": "execute_result"
    }
   ],
   "source": [
    "# prediksi\n",
    "y_pred_inf"
   ]
  },
  {
   "attachments": {},
   "cell_type": "markdown",
   "metadata": {},
   "source": [
    "Customer diprediksi untuk `tidak churn`--mungkin karena pelanggan juga memiliki poin yang tinggi serta total transaksi rata-rata. \n",
    "Perlu dicatat bahwa model memiliki nilai keakuratan kurang lebih 92%. Model ini cukup baik jika digunakan untuk melihat gambaran umum target pemasaran. \n"
   ]
  }
 ],
 "metadata": {
  "kernelspec": {
   "display_name": "Python 3",
   "language": "python",
   "name": "python3"
  },
  "language_info": {
   "codemirror_mode": {
    "name": "ipython",
    "version": 3
   },
   "file_extension": ".py",
   "mimetype": "text/x-python",
   "name": "python",
   "nbconvert_exporter": "python",
   "pygments_lexer": "ipython3",
   "version": "3.10.7"
  },
  "orig_nbformat": 4
 },
 "nbformat": 4,
 "nbformat_minor": 2
}
